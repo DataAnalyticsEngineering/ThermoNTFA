{
 "cells": [
  {
   "cell_type": "markdown",
   "id": "67cef919-a963-41c7-a509-f2ddc76c31bb",
   "metadata": {},
   "source": [
    "# Material parameters"
   ]
  },
  {
   "cell_type": "code",
   "execution_count": 1,
   "id": "f80aeee7-ede8-41b1-a20e-02b864e3dfcb",
   "metadata": {},
   "outputs": [],
   "source": [
    "import numpy as np\n",
    "from typing import Union, Tuple"
   ]
  },
  {
   "cell_type": "markdown",
   "id": "2255b6f6-b1e4-4cc6-ba81-3d9c670d1006",
   "metadata": {},
   "source": [
    "## Temperature range"
   ]
  },
  {
   "cell_type": "code",
   "execution_count": 2,
   "id": "89764b2c",
   "metadata": {},
   "outputs": [],
   "source": [
    "min_temperature = 293.00\n",
    "max_temperature = 1300.00"
   ]
  },
  {
   "cell_type": "markdown",
   "id": "1a484995-35e0-4bc0-84c0-c777b10fab99",
   "metadata": {},
   "source": [
    "## Basic tensors"
   ]
  },
  {
   "cell_type": "code",
   "execution_count": 3,
   "id": "8de9150c",
   "metadata": {},
   "outputs": [],
   "source": [
    "I2 = np.asarray([1.0, 1.0, 1.0, 0.0, 0.0, 0.0])\n",
    "I4 = np.eye(6)\n",
    "IxI = np.outer(I2, I2)\n",
    "P1 = IxI / 3.0\n",
    "P2 = I4 - P1"
   ]
  },
  {
   "cell_type": "markdown",
   "id": "56e5f4fe-8294-4d58-85b9-9a6e6d19b494",
   "metadata": {},
   "source": [
    "## Temperature-dependent material parameters of copper phase (phase no. 0)"
   ]
  },
  {
   "cell_type": "code",
   "execution_count": 4,
   "id": "5e4d0119",
   "metadata": {},
   "outputs": [],
   "source": [
    "poisson_ratio_cu = lambda x: 3.40000e-01 * x ** 0\n",
    "conductivity_cu = lambda x: 4.20749e+05 * x ** 0 + -6.84915e+01 * x ** 1\n",
    "heat_capacity_cu = lambda x: 2.94929e+03 * x ** 0 + 2.30217e+00 * x ** 1 + -2.95302e-03 * x ** 2 + 1.47057e-06 * x ** 3\n",
    "cte_cu = lambda x: 1.28170e-05 * x ** 0 + 8.23091e-09 * x ** 1\n",
    "eps_th_cu = lambda x: 1.28170e-05 * (x-min_temperature) + 8.23091e-09 * 0.5 * ( x*x - min_temperature**2 )\n",
    "elastic_modulus_cu = lambda x: 1.35742e+08 * x ** 0 + 5.85757e+03 * x ** 1 + -8.16134e+01 * x ** 2\n",
    "hardening_cu = lambda x: 20e+06 * x ** 0\n",
    "\n",
    "shear_modulus_cu = lambda x: elastic_modulus_cu(x) / (2. * (1. + poisson_ratio_cu(x)))\n",
    "bulk_modulus_cu = lambda x: elastic_modulus_cu(x) / (3. * (1. - 2. * poisson_ratio_cu(x)))\n",
    "stiffness_cu = lambda x: bulk_modulus_cu(x) * IxI + 2. * shear_modulus_cu(x) * P2"
   ]
  },
  {
   "cell_type": "markdown",
   "id": "22b13cff-a6bd-4eb1-933e-3ce9969534ee",
   "metadata": {},
   "source": [
    "## Temperature-dependent material parameters of wsc phase (phase no. 1)"
   ]
  },
  {
   "cell_type": "code",
   "execution_count": 5,
   "id": "73f64c97",
   "metadata": {
    "lines_to_next_cell": 2
   },
   "outputs": [],
   "source": [
    "poisson_ratio_wsc = lambda x: 2.80000e-01 * x ** 0\n",
    "conductivity_wsc = lambda x: 2.19308e+05 * x ** 0 + -1.87425e+02 * x ** 1 + 1.05157e-01 * x ** 2 + -2.01180e-05 * x ** 3\n",
    "heat_capacity_wsc = lambda x: 2.39247e+03 * x ** 0 + 6.62775e-01 * x ** 1 + -2.80323e-04 * x ** 2 + 6.39511e-08 * x ** 3\n",
    "cte_wsc = lambda x: 5.07893e-06 * x ** 0 + 5.67524e-10 * x ** 1\n",
    "eps_th_wsc = lambda x: 5.07893e-06 * (x-min_temperature) + 5.67524e-10 * 0.5 * ( x*x - min_temperature**2 )\n",
    "elastic_modulus_wsc = lambda x: 4.13295e+08 * x ** 0 + -7.83159e+03 * x ** 1 + -3.65909e+01 * x ** 2 + 5.48782e-03 * x ** 3\n",
    "\n",
    "shear_modulus_wsc = lambda x: elastic_modulus_wsc(x) / (2. * (1. + poisson_ratio_wsc(x)))\n",
    "bulk_modulus_wsc = lambda x: elastic_modulus_wsc(x) / (3. * (1. - 2. * poisson_ratio_wsc(x)))\n",
    "stiffness_wsc = lambda x: bulk_modulus_wsc(x) * IxI + 2. * shear_modulus_wsc(x) * P2"
   ]
  },
  {
   "cell_type": "markdown",
   "id": "83f9739d-183b-46e4-865b-9256d1e9fe7b",
   "metadata": {},
   "source": [
    "## Yield stress function of the plastic phase of the material"
   ]
  },
  {
   "cell_type": "code",
   "execution_count": 6,
   "id": "25d36554",
   "metadata": {},
   "outputs": [],
   "source": [
    "def my_sig_y(theta: float, q: float, derivative=False) -> Union[float, Tuple[float, float]]:\n",
    "    \"\"\"\n",
    "    Defines the yield stress function of the plastic phase of the material\n",
    "\n",
    "    :param theta: temperature\n",
    "    :param q: hardening\n",
    "    :param derivative: if the derivative should also be returned\n",
    "    \"\"\"\n",
    "    if theta < 966.06:\n",
    "        sig0 = 1.12133e+02 * theta + 3.49810e+04 + 1.53393e+05 * np.tanh((635.754 - theta) / 206.958)\n",
    "    else:\n",
    "        sig0 = 2023.286\n",
    "    H = 5e5  # equivalent to 500 MPa\n",
    "    if derivative is False:\n",
    "        return sig0 + H * q\n",
    "    else:\n",
    "        return sig0 + H * q, H"
   ]
  }
 ],
 "metadata": {
  "jupytext": {
   "cell_metadata_filter": "-all",
   "formats": "ipynb,auto:light",
   "main_language": "python",
   "notebook_metadata_filter": "-all"
  },
  "kernelspec": {
   "display_name": "Python 3 (ipykernel)",
   "language": "python",
   "name": "python3"
  },
  "language_info": {
   "codemirror_mode": {
    "name": "ipython",
    "version": 3
   },
   "file_extension": ".py",
   "mimetype": "text/x-python",
   "name": "python",
   "nbconvert_exporter": "python",
   "pygments_lexer": "ipython3",
   "version": "3.11.5"
  }
 },
 "nbformat": 4,
 "nbformat_minor": 5
}
