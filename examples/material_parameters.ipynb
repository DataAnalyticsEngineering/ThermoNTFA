{
 "cells": [
  {
   "cell_type": "markdown",
   "id": "a853957f",
   "metadata": {},
   "source": [
    "# Material parameters"
   ]
  },
  {
   "cell_type": "code",
   "execution_count": null,
   "id": "6edc700e",
   "metadata": {},
   "outputs": [],
   "source": [
    "from typing import Tuple, Union\n",
    "\n",
    "import numpy as np"
   ]
  },
  {
   "cell_type": "markdown",
   "id": "0f6f1551",
   "metadata": {},
   "source": [
    "## Temperature range"
   ]
  },
  {
   "cell_type": "code",
   "execution_count": null,
   "id": "ac6f2639",
   "metadata": {},
   "outputs": [],
   "source": [
    "min_temperature = 293.00\n",
    "max_temperature = 1300.00"
   ]
  },
  {
   "cell_type": "markdown",
   "id": "fe15c492",
   "metadata": {},
   "source": [
    "## Basic tensors"
   ]
  },
  {
   "cell_type": "code",
   "execution_count": null,
   "id": "03e83a66",
   "metadata": {},
   "outputs": [],
   "source": [
    "I2 = np.asarray([1.0, 1.0, 1.0, 0.0, 0.0, 0.0])\n",
    "I4 = np.eye(6)\n",
    "IxI = np.outer(I2, I2)\n",
    "P1 = IxI / 3.0\n",
    "P2 = I4 - P1"
   ]
  },
  {
   "cell_type": "markdown",
   "id": "f719a870",
   "metadata": {},
   "source": [
    "## Temperature-dependent material parameters of copper phase (phase no. 0)"
   ]
  },
  {
   "cell_type": "code",
   "execution_count": null,
   "id": "17cee4a7",
   "metadata": {},
   "outputs": [],
   "source": [
    "poisson_ratio_cu = lambda x: 3.40000e-01 * x**0\n",
    "conductivity_cu = lambda x: 4.20749e05 * x**0 + -6.84915e01 * x**1\n",
    "heat_capacity_cu = (\n",
    "    lambda x: 2.94929e03 * x**0\n",
    "    + 2.30217e00 * x**1\n",
    "    + -2.95302e-03 * x**2\n",
    "    + 1.47057e-06 * x**3\n",
    ")\n",
    "cte_cu = lambda x: 1.28170e-05 * x**0 + 8.23091e-09 * x**1\n",
    "eps_th_cu = lambda x: 1.28170e-05 * (x - min_temperature) + 8.23091e-09 * 0.5 * (\n",
    "    x * x - min_temperature**2\n",
    ")\n",
    "elastic_modulus_cu = (\n",
    "    lambda x: 1.35742e08 * x**0 + 5.85757e03 * x**1 + -8.16134e01 * x**2\n",
    ")\n",
    "hardening_cu = lambda x: 20e06 * x**0\n",
    "\n",
    "shear_modulus_cu = lambda x: elastic_modulus_cu(x) / (2.0 * (1.0 + poisson_ratio_cu(x)))\n",
    "bulk_modulus_cu = lambda x: elastic_modulus_cu(x) / (\n",
    "    3.0 * (1.0 - 2.0 * poisson_ratio_cu(x))\n",
    ")\n",
    "stiffness_cu = lambda x: bulk_modulus_cu(x) * IxI + 2.0 * shear_modulus_cu(x) * P2"
   ]
  },
  {
   "cell_type": "markdown",
   "id": "49cccd0a",
   "metadata": {},
   "source": [
    "## Temperature-dependent material parameters of wsc phase (phase no. 1)"
   ]
  },
  {
   "cell_type": "code",
   "execution_count": null,
   "id": "37a3affb",
   "metadata": {
    "lines_to_next_cell": 2
   },
   "outputs": [],
   "source": [
    "poisson_ratio_wsc = lambda x: 2.80000e-01 * x**0\n",
    "conductivity_wsc = (\n",
    "    lambda x: 2.19308e05 * x**0\n",
    "    + -1.87425e02 * x**1\n",
    "    + 1.05157e-01 * x**2\n",
    "    + -2.01180e-05 * x**3\n",
    ")\n",
    "heat_capacity_wsc = (\n",
    "    lambda x: 2.39247e03 * x**0\n",
    "    + 6.62775e-01 * x**1\n",
    "    + -2.80323e-04 * x**2\n",
    "    + 6.39511e-08 * x**3\n",
    ")\n",
    "cte_wsc = lambda x: 5.07893e-06 * x**0 + 5.67524e-10 * x**1\n",
    "eps_th_wsc = lambda x: 5.07893e-06 * (x - min_temperature) + 5.67524e-10 * 0.5 * (\n",
    "    x * x - min_temperature**2\n",
    ")\n",
    "elastic_modulus_wsc = (\n",
    "    lambda x: 4.13295e08 * x**0\n",
    "    + -7.83159e03 * x**1\n",
    "    + -3.65909e01 * x**2\n",
    "    + 5.48782e-03 * x**3\n",
    ")\n",
    "\n",
    "shear_modulus_wsc = lambda x: elastic_modulus_wsc(x) / (\n",
    "    2.0 * (1.0 + poisson_ratio_wsc(x))\n",
    ")\n",
    "bulk_modulus_wsc = lambda x: elastic_modulus_wsc(x) / (\n",
    "    3.0 * (1.0 - 2.0 * poisson_ratio_wsc(x))\n",
    ")\n",
    "stiffness_wsc = lambda x: bulk_modulus_wsc(x) * IxI + 2.0 * shear_modulus_wsc(x) * P2"
   ]
  },
  {
   "cell_type": "markdown",
   "id": "0baade91",
   "metadata": {
    "lines_to_next_cell": 2
   },
   "source": [
    "## Yield stress function of the plastic phase of the material"
   ]
  },
  {
   "cell_type": "code",
   "execution_count": null,
   "id": "55b3a202",
   "metadata": {},
   "outputs": [],
   "source": [
    "def my_sig_y(\n",
    "    theta: float, q: float, derivative=False\n",
    ") -> Union[float, Tuple[float, float]]:\n",
    "    \"\"\"\n",
    "    Defines the yield stress function of the plastic phase of the material\n",
    "\n",
    "    :param theta: temperature\n",
    "    :param q: hardening\n",
    "    :param derivative: if the derivative should also be returned\n",
    "    \"\"\"\n",
    "    if theta < 966.06:\n",
    "        sig0 = (\n",
    "            1.12133e02 * theta\n",
    "            + 3.49810e04\n",
    "            + 1.53393e05 * np.tanh((635.754 - theta) / 206.958)\n",
    "        )\n",
    "    else:\n",
    "        sig0 = 2023.286\n",
    "    H = 5e5  # equivalent to 500 MPa\n",
    "    if derivative is False:\n",
    "        return sig0 + H * q\n",
    "    else:\n",
    "        return sig0 + H * q, H"
   ]
  }
 ],
 "metadata": {
  "jupytext": {
   "cell_metadata_filter": "-all",
   "formats": "ipynb,py:percent",
   "main_language": "python",
   "notebook_metadata_filter": "-all"
  },
  "kernelspec": {
   "display_name": "Python 3 (ipykernel)",
   "language": "python",
   "name": "python3"
  },
  "language_info": {
   "codemirror_mode": {
    "name": "ipython",
    "version": 3
   },
   "file_extension": ".py",
   "mimetype": "text/x-python",
   "name": "python",
   "nbconvert_exporter": "python",
   "pygments_lexer": "ipython3",
   "version": "3.11.6"
  }
 },
 "nbformat": 4,
 "nbformat_minor": 5
}
