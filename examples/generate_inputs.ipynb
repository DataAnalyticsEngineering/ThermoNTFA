{
 "cells": [
  {
   "cell_type": "markdown",
   "id": "868ab97d",
   "metadata": {},
   "source": [
    "# Thermo-mechanical NTFA - Generate input files\n",
    "\n",
    "Felix Fritzen <fritzen@simtech.uni-stuttgart.de>,\n",
    "Julius Herb <julius.herb@mib.uni-stuttgart.de>,\n",
    "Shadi Sharba <shadi.sharba@isc.fraunhofer.de>\n",
    "\n",
    "University of Stuttgart, Institute of Applied Mechanics, Chair for Data Analytics in Engineering\n",
    "\n",
    "> **Funding acknowledgment**\n",
    "> The IGF-Project no.: 21.079 N / DVS-No.: 06.3341 of the\n",
    "> “Forschungsvereinigung Schweißen und verwandte Verfahren e.V.” of the\n",
    "> German Welding Society (DVS), Aachener Str. 172, 40223 Düsseldorf, Germany,\n",
    "> was funded by the Federal Ministry for Economic Affairs and Climate Action (BMWK)\n",
    "> via the German Federation of Industrial Research Associations (AiF) in accordance\n",
    "> with the policy to support the Industrial Collective Research (IGF)\n",
    "> on the orders of the German Bundestag.\n",
    ">\n",
    "> Felix Fritzen is funded by the German Research Foundation (DFG) --\n",
    "> 390740016 (EXC-2075); 406068690 (FR2702/8-1); 517847245 (FR2702/10-1).\n",
    "\n",
    "## Imports"
   ]
  },
  {
   "cell_type": "code",
   "execution_count": 1,
   "id": "108f3a39",
   "metadata": {},
   "outputs": [],
   "source": [
    "import os\n",
    "import sys\n",
    "from itertools import count\n",
    "\n",
    "import h5py\n",
    "import matplotlib.pyplot as plt\n",
    "import numpy as np\n",
    "\n",
    "data_path = \"../data\""
   ]
  },
  {
   "cell_type": "markdown",
   "id": "8003714c",
   "metadata": {},
   "source": [
    "## Load H5 file with validation simulations\n",
    "\n",
    "While the NTFA is trained based on snapshots at 10 temperature points,\n",
    "this data set contains snapshots at 100 temperature points."
   ]
  },
  {
   "cell_type": "code",
   "execution_count": 2,
   "id": "b96a5437",
   "metadata": {},
   "outputs": [],
   "source": [
    "file_name = os.path.join(\n",
    "    data_path, \"validation\", \"simple_3d_rve_B1-B6_16x16x16_100samples_fix.h5\"\n",
    ")\n",
    "group_name = \"/ms_9p/dset0_sim\"\n",
    "suffix = \"_fix16_N24_100s\"\n",
    "prefix = os.path.join(data_path, \"loadcases\")\n",
    "N_modes = 24\n",
    "\n",
    "# open the file an get the keys --> extract temperatures!\n",
    "F = h5py.File(file_name, \"r\")\n",
    "keylist = F[group_name].keys()\n",
    "\n",
    "temp_list = []\n",
    "temp_str_list = []\n",
    "for k in keylist:\n",
    "    if k[:13] == \"hom_response_\":\n",
    "        temp_list.append(float(k[13:20]))\n",
    "        temp_str_list.append(k[13:20])\n",
    "\n",
    "# get loadings:\n",
    "loadcases = np.array(F[group_name + \"/loadcases_\" + temp_str_list[0]])[-1, :, :].T\n",
    "# find proportional loadings, figure direction and amplitude:\n",
    "fans_S = []\n",
    "fans_S0 = []\n",
    "fans_S1 = []\n",
    "for t_str in temp_str_list:\n",
    "    fans_S.append(\n",
    "        np.transpose(np.array(F[group_name + \"/hom_response_\" + t_str]), axes=(2, 0, 1))\n",
    "    )\n",
    "    fans_S0.append(\n",
    "        np.transpose(\n",
    "            np.array(F[group_name + \"/hom_response0_\" + t_str]), axes=(2, 0, 1)\n",
    "        )\n",
    "    )\n",
    "    fans_S1.append(\n",
    "        np.transpose(\n",
    "            np.array(F[group_name + \"/hom_response1_\" + t_str]), axes=(2, 0, 1)\n",
    "        )\n",
    "    )\n",
    "F.close()"
   ]
  },
  {
   "cell_type": "markdown",
   "id": "0f13563a",
   "metadata": {},
   "source": [
    "## Generate input files (*.inp) for FE simulation on macroscale\n",
    "\n",
    "The thermo-mechanical NTFA is used as effective material model in the FE simulation on macroscale."
   ]
  },
  {
   "cell_type": "code",
   "execution_count": 3,
   "id": "409caba2",
   "metadata": {},
   "outputs": [],
   "source": [
    "ntfa_S = []\n",
    "ntfa_S0 = []\n",
    "ntfa_S1 = []\n",
    "modefn = os.path.join(data_path, \"ntfa\", \"ms9p_fix_ntfa16_B1-6_10s_N24.h5\")\n",
    "orig_stdout = sys.stdout\n",
    "amplitudes = np.ones(loadcases.shape[0])\n",
    "for n, d, amp in zip(count(), loadcases, amplitudes):\n",
    "    for T, T_str in zip(temp_list, temp_str_list):\n",
    "        f = open(os.path.join(prefix, f\"loadcase{n + 1}_T{T_str}{suffix}.inp\"), \"w\")\n",
    "        sys.stdout = f\n",
    "        print(f'output=\"loadcase{n + 1}_T{T_str}{suffix}.h5\";')\n",
    "        print(f'modes=\"{modefn}\";')\n",
    "        print(f\"epsilon=[{d[0]}, {d[1]}, {d[2]}, {d[3]}, {d[4]}, {d[5]}];\")\n",
    "        print(f\"amplitude={amp};\")\n",
    "        print(\"totaltime=1;\")\n",
    "        print(\"deltat=0.1;\")\n",
    "        print(f\"tstart={T};\")\n",
    "        print(f\"tend={T};\")\n",
    "        print(\"hardeningmodulus=500000.0;\")\n",
    "        # print(\"hardeningmodulus=20000000.0;\")\n",
    "        print(\"elastic=false;\")\n",
    "        print(\"relaxthermo=false;\")\n",
    "        print(\"linhardening=true;\")\n",
    "        f.close()\n",
    "        sys.stdout = orig_stdout"
   ]
  },
  {
   "cell_type": "markdown",
   "id": "182fcf69",
   "metadata": {},
   "source": [
    "## Post-process results of FE simulation on macroscale"
   ]
  },
  {
   "cell_type": "code",
   "execution_count": 4,
   "id": "d853f364",
   "metadata": {},
   "outputs": [
    {
     "name": "stdout",
     "output_type": "stream",
     "text": [
      "(100, 6, 11, 6)\n"
     ]
    },
    {
     "ename": "FileNotFoundError",
     "evalue": "[Errno 2] Unable to synchronously open file (unable to open file: name = '../data/loadcases/loadcase1_T0300.00_fix16_N24_100s.h5', errno = 2, error message = 'No such file or directory', flags = 0, o_flags = 0)",
     "output_type": "error",
     "traceback": [
      "\u001b[0;31m---------------------------------------------------------------------------\u001b[0m",
      "\u001b[0;31mFileNotFoundError\u001b[0m                         Traceback (most recent call last)",
      "Cell \u001b[0;32mIn[4], line 21\u001b[0m\n\u001b[1;32m     19\u001b[0m ntfa_fname \u001b[38;5;241m=\u001b[39m os\u001b[38;5;241m.\u001b[39mpath\u001b[38;5;241m.\u001b[39mjoin(prefix, \u001b[38;5;124mf\u001b[39m\u001b[38;5;124m\"\u001b[39m\u001b[38;5;124mloadcase\u001b[39m\u001b[38;5;132;01m{\u001b[39;00mn\u001b[38;5;250m \u001b[39m\u001b[38;5;241m+\u001b[39m\u001b[38;5;250m \u001b[39m\u001b[38;5;241m1\u001b[39m\u001b[38;5;132;01m}\u001b[39;00m\u001b[38;5;124m_T\u001b[39m\u001b[38;5;132;01m{\u001b[39;00mT_str\u001b[38;5;132;01m}\u001b[39;00m\u001b[38;5;132;01m{\u001b[39;00msuffix\u001b[38;5;132;01m}\u001b[39;00m\u001b[38;5;124m.h5\u001b[39m\u001b[38;5;124m\"\u001b[39m)\n\u001b[1;32m     20\u001b[0m \u001b[38;5;66;03m# print(ntfa_fname)\u001b[39;00m\n\u001b[0;32m---> 21\u001b[0m F_ntfa \u001b[38;5;241m=\u001b[39m \u001b[43mh5py\u001b[49m\u001b[38;5;241;43m.\u001b[39;49m\u001b[43mFile\u001b[49m\u001b[43m(\u001b[49m\u001b[43mntfa_fname\u001b[49m\u001b[43m,\u001b[49m\u001b[43m \u001b[49m\u001b[38;5;124;43m\"\u001b[39;49m\u001b[38;5;124;43mr\u001b[39;49m\u001b[38;5;124;43m\"\u001b[39;49m\u001b[43m)\u001b[49m\n\u001b[1;32m     22\u001b[0m \u001b[38;5;66;03m# get references values:\u001b[39;00m\n\u001b[1;32m     24\u001b[0m ntfa_eps[i_T, n, :, :] \u001b[38;5;241m=\u001b[39m np\u001b[38;5;241m.\u001b[39marray(F_ntfa[\u001b[38;5;124m\"\u001b[39m\u001b[38;5;124m/eps\u001b[39m\u001b[38;5;124m\"\u001b[39m])\n",
      "File \u001b[0;32m~/Documents/ThermoNTFA/venv/lib/python3.11/site-packages/h5py/_hl/files.py:562\u001b[0m, in \u001b[0;36mFile.__init__\u001b[0;34m(self, name, mode, driver, libver, userblock_size, swmr, rdcc_nslots, rdcc_nbytes, rdcc_w0, track_order, fs_strategy, fs_persist, fs_threshold, fs_page_size, page_buf_size, min_meta_keep, min_raw_keep, locking, alignment_threshold, alignment_interval, meta_block_size, **kwds)\u001b[0m\n\u001b[1;32m    553\u001b[0m     fapl \u001b[38;5;241m=\u001b[39m make_fapl(driver, libver, rdcc_nslots, rdcc_nbytes, rdcc_w0,\n\u001b[1;32m    554\u001b[0m                      locking, page_buf_size, min_meta_keep, min_raw_keep,\n\u001b[1;32m    555\u001b[0m                      alignment_threshold\u001b[38;5;241m=\u001b[39malignment_threshold,\n\u001b[1;32m    556\u001b[0m                      alignment_interval\u001b[38;5;241m=\u001b[39malignment_interval,\n\u001b[1;32m    557\u001b[0m                      meta_block_size\u001b[38;5;241m=\u001b[39mmeta_block_size,\n\u001b[1;32m    558\u001b[0m                      \u001b[38;5;241m*\u001b[39m\u001b[38;5;241m*\u001b[39mkwds)\n\u001b[1;32m    559\u001b[0m     fcpl \u001b[38;5;241m=\u001b[39m make_fcpl(track_order\u001b[38;5;241m=\u001b[39mtrack_order, fs_strategy\u001b[38;5;241m=\u001b[39mfs_strategy,\n\u001b[1;32m    560\u001b[0m                      fs_persist\u001b[38;5;241m=\u001b[39mfs_persist, fs_threshold\u001b[38;5;241m=\u001b[39mfs_threshold,\n\u001b[1;32m    561\u001b[0m                      fs_page_size\u001b[38;5;241m=\u001b[39mfs_page_size)\n\u001b[0;32m--> 562\u001b[0m     fid \u001b[38;5;241m=\u001b[39m \u001b[43mmake_fid\u001b[49m\u001b[43m(\u001b[49m\u001b[43mname\u001b[49m\u001b[43m,\u001b[49m\u001b[43m \u001b[49m\u001b[43mmode\u001b[49m\u001b[43m,\u001b[49m\u001b[43m \u001b[49m\u001b[43muserblock_size\u001b[49m\u001b[43m,\u001b[49m\u001b[43m \u001b[49m\u001b[43mfapl\u001b[49m\u001b[43m,\u001b[49m\u001b[43m \u001b[49m\u001b[43mfcpl\u001b[49m\u001b[43m,\u001b[49m\u001b[43m \u001b[49m\u001b[43mswmr\u001b[49m\u001b[38;5;241;43m=\u001b[39;49m\u001b[43mswmr\u001b[49m\u001b[43m)\u001b[49m\n\u001b[1;32m    564\u001b[0m \u001b[38;5;28;01mif\u001b[39;00m \u001b[38;5;28misinstance\u001b[39m(libver, \u001b[38;5;28mtuple\u001b[39m):\n\u001b[1;32m    565\u001b[0m     \u001b[38;5;28mself\u001b[39m\u001b[38;5;241m.\u001b[39m_libver \u001b[38;5;241m=\u001b[39m libver\n",
      "File \u001b[0;32m~/Documents/ThermoNTFA/venv/lib/python3.11/site-packages/h5py/_hl/files.py:235\u001b[0m, in \u001b[0;36mmake_fid\u001b[0;34m(name, mode, userblock_size, fapl, fcpl, swmr)\u001b[0m\n\u001b[1;32m    233\u001b[0m     \u001b[38;5;28;01mif\u001b[39;00m swmr \u001b[38;5;129;01mand\u001b[39;00m swmr_support:\n\u001b[1;32m    234\u001b[0m         flags \u001b[38;5;241m|\u001b[39m\u001b[38;5;241m=\u001b[39m h5f\u001b[38;5;241m.\u001b[39mACC_SWMR_READ\n\u001b[0;32m--> 235\u001b[0m     fid \u001b[38;5;241m=\u001b[39m \u001b[43mh5f\u001b[49m\u001b[38;5;241;43m.\u001b[39;49m\u001b[43mopen\u001b[49m\u001b[43m(\u001b[49m\u001b[43mname\u001b[49m\u001b[43m,\u001b[49m\u001b[43m \u001b[49m\u001b[43mflags\u001b[49m\u001b[43m,\u001b[49m\u001b[43m \u001b[49m\u001b[43mfapl\u001b[49m\u001b[38;5;241;43m=\u001b[39;49m\u001b[43mfapl\u001b[49m\u001b[43m)\u001b[49m\n\u001b[1;32m    236\u001b[0m \u001b[38;5;28;01melif\u001b[39;00m mode \u001b[38;5;241m==\u001b[39m \u001b[38;5;124m'\u001b[39m\u001b[38;5;124mr+\u001b[39m\u001b[38;5;124m'\u001b[39m:\n\u001b[1;32m    237\u001b[0m     fid \u001b[38;5;241m=\u001b[39m h5f\u001b[38;5;241m.\u001b[39mopen(name, h5f\u001b[38;5;241m.\u001b[39mACC_RDWR, fapl\u001b[38;5;241m=\u001b[39mfapl)\n",
      "File \u001b[0;32mh5py/_objects.pyx:54\u001b[0m, in \u001b[0;36mh5py._objects.with_phil.wrapper\u001b[0;34m()\u001b[0m\n",
      "File \u001b[0;32mh5py/_objects.pyx:55\u001b[0m, in \u001b[0;36mh5py._objects.with_phil.wrapper\u001b[0;34m()\u001b[0m\n",
      "File \u001b[0;32mh5py/h5f.pyx:102\u001b[0m, in \u001b[0;36mh5py.h5f.open\u001b[0;34m()\u001b[0m\n",
      "\u001b[0;31mFileNotFoundError\u001b[0m: [Errno 2] Unable to synchronously open file (unable to open file: name = '../data/loadcases/loadcase1_T0300.00_fix16_N24_100s.h5', errno = 2, error message = 'No such file or directory', flags = 0, o_flags = 0)"
     ]
    }
   ],
   "source": [
    "ntfa_eps = np.zeros(\n",
    "    (len(temp_list), fans_S[0].shape[0], fans_S[0].shape[1], fans_S[0].shape[2])\n",
    ")\n",
    "ntfa_S = np.zeros(\n",
    "    (len(temp_list), fans_S[0].shape[0], fans_S[0].shape[1], fans_S[0].shape[2])\n",
    ")\n",
    "ntfa_S0 = np.zeros(\n",
    "    (len(temp_list), fans_S[0].shape[0], fans_S[0].shape[1], fans_S[0].shape[2])\n",
    ")\n",
    "ntfa_S1 = np.zeros(\n",
    "    (len(temp_list), fans_S[0].shape[0], fans_S[0].shape[1], fans_S[0].shape[2])\n",
    ")\n",
    "ntfa_q = np.zeros((len(temp_list), fans_S[0].shape[0], fans_S[0].shape[1]))\n",
    "ntfa_xi = np.zeros((len(temp_list), fans_S[0].shape[0], fans_S[0].shape[1], N_modes))\n",
    "ct = 0\n",
    "print(ntfa_S1.shape)\n",
    "for i_T, (T, T_str) in enumerate(zip(temp_list, temp_str_list)):\n",
    "    for n, d, amp in zip(count(), loadcases, amplitudes):\n",
    "        ntfa_fname = os.path.join(prefix, f\"loadcase{n + 1}_T{T_str}{suffix}.h5\")\n",
    "        # print(ntfa_fname)\n",
    "        F_ntfa = h5py.File(ntfa_fname, \"r\")\n",
    "        # get references values:\n",
    "\n",
    "        ntfa_eps[i_T, n, :, :] = np.array(F_ntfa[\"/eps\"])\n",
    "        ntfa_S[i_T, n, :, :] = np.array(F_ntfa[\"/sig\"])\n",
    "        ntfa_S0[i_T, n, :, :] = np.array(F_ntfa[\"/sig0\"])\n",
    "        ntfa_S1[i_T, n, :, :] = np.array(F_ntfa[\"/sig1\"])\n",
    "        ntfa_q[i_T, n, :] = np.array(F_ntfa[\"/sdv\"][:, 0])\n",
    "        ntfa_xi[i_T, n, :] = np.array(F_ntfa[\"/sdv\"][:, 1 : (1 + N_modes)])\n",
    "\n",
    "        F_ntfa.close()\n",
    "\n",
    "print(ntfa_S1[0][5])\n",
    "print(ntfa_S1[9][5])"
   ]
  },
  {
   "cell_type": "markdown",
   "id": "b4006b75",
   "metadata": {},
   "source": [
    "## Compute error of stresses\n",
    "\n",
    "Overall stress: $S$,\n",
    "Stress in phase 0: $S_0$,\n",
    "Stress in phase 1: $S_1$"
   ]
  },
  {
   "cell_type": "code",
   "execution_count": null,
   "id": "af202e0a",
   "metadata": {},
   "outputs": [],
   "source": [
    "err = np.linalg.norm(fans_S - ntfa_S, axis=(2, 3)) / np.linalg.norm(fans_S, axis=(2, 3))\n",
    "err0 = np.linalg.norm(fans_S0 - ntfa_S0, axis=(2, 3)) / np.linalg.norm(\n",
    "    fans_S, axis=(2, 3)\n",
    ")\n",
    "err1 = np.linalg.norm(fans_S1 - ntfa_S1, axis=(2, 3)) / np.linalg.norm(\n",
    "    fans_S, axis=(2, 3)\n",
    ")"
   ]
  },
  {
   "cell_type": "markdown",
   "id": "e9264788",
   "metadata": {},
   "source": [
    "## Plot stresses (NTFA vs. reference)\n",
    "\n",
    "### Incremenent $i_T = 9$; all loading directions $1 \\leq n \\leq 6$"
   ]
  },
  {
   "cell_type": "code",
   "execution_count": null,
   "id": "58cb52f0",
   "metadata": {},
   "outputs": [],
   "source": [
    "i_T = 9\n",
    "for n in range(6):\n",
    "    fig, ax1 = plt.subplots(1, 1, figsize=(10, 8))\n",
    "    # fig, ax2 = plt.subplots(1,1,figsize=(10,8))\n",
    "    # fig, ax3 = plt.subplots(1,1,figsize=(10,8))\n",
    "    # for i, dp in zip( (0,),  ('--',) ):\n",
    "    for i, dp in enumerate((\"-\", \"--\", \"-.\", \"-..\", \"-\", \"-.\")):\n",
    "        ax1.plot(fans_S[i_T][n][:, i], dp, color=\"black\")\n",
    "        # ax1.plot( (fans_S[i_T][n][:,i]-ntfa_S[i_T][n][:,i])/1e3, dp, color='black' )\n",
    "        # print(fans_S[i_T][n][:,i]-ntfa_S[i_T][n][:,i])\n",
    "        ax1.plot(ntfa_S[i_T][n][:, i], dp, color=\"blue\")\n",
    "        # ax2.plot( fans_S0[i_T][n][:,i], dp, color='black' )\n",
    "        # ax2.plot( ntfa_S0[i_T][n][:,i], dp, color='blue' )\n",
    "        # ax1.plot( fans_S1[i_T][n][:,i], dp, color='black' )\n",
    "        # ax1.plot( ntfa_S1[i_T][n][:,i], dp, color='blue' )"
   ]
  },
  {
   "cell_type": "markdown",
   "id": "d2f989b4",
   "metadata": {},
   "source": [
    "### Loading direction $n = 5$; all increments $0 \\leq i_T \\leq 9$"
   ]
  },
  {
   "cell_type": "code",
   "execution_count": null,
   "id": "81259dc4",
   "metadata": {},
   "outputs": [],
   "source": [
    "n = 5\n",
    "for i_T in range(10):\n",
    "    fig, ax1 = plt.subplots(1, 1, figsize=(10, 8))\n",
    "    # fig, ax2 = plt.subplots(1,1,figsize=(10,8))\n",
    "    # fig, ax3 = plt.subplots(1,1,figsize=(10,8))\n",
    "    for i, dp in zip((3,), (\"-\",)):\n",
    "        # for i, dp in enumerate((\"-\", \"--\", \"-.\", \"-..\", \"-\",\"-.\")):\n",
    "        ax1.plot(fans_S[i_T][n][:, 0], dp, color=\"black\")\n",
    "        # ax1.plot( (fans_S[i_T][n][:,i]-ntfa_S[i_T][n][:,i])/1e3, dp, color='black' )\n",
    "        # print(fans_S[i_T][n][:,i]-ntfa_S[i_T][n][:,i])\n",
    "        ax1.plot(ntfa_S[i_T][n][:, 0], dp, color=\"blue\")\n",
    "        # ax1.plot( ntfa_q[i_T][n][:], '-', color='red', lw=2)\n",
    "        # ax2.plot( fans_S0[i_T][n][:,i], dp, color='black' )\n",
    "        # ax2.plot( ntfa_S0[i_T][n][:,i], dp, color='blue' )\n",
    "        # ax1.plot( fans_S1[i_T][n][:,i], dp, color='black' )\n",
    "        # ax1.plot( ntfa_S1[i_T][n][:,i], dp, color='blue' )\n",
    "# ## Plot relative error (NTFA vs. reference)\n",
    "#\n",
    "# ### Overall stress"
   ]
  },
  {
   "cell_type": "code",
   "execution_count": null,
   "id": "aa1c36f0",
   "metadata": {},
   "outputs": [],
   "source": [
    "fig, axx = plt.subplots(1, 2, figsize=(15, 7))\n",
    "ct = 0\n",
    "for i_T, T in zip((0, 9), (300.0, 1300.0)):\n",
    "    ax = axx[ct]\n",
    "    ct += 1\n",
    "    ax.set_title(r\"Relativer Fehler, $\\bar{\\sigma}$, T=%.1f K\" % T)\n",
    "    x = np.linspace(0, 1, 11)\n",
    "    ax.set_xlabel(\"relative Belastung [-]\")\n",
    "    ax.set_ylabel(r\"relativer Fehler in $\\bar{\\sigma}$ [%]\")\n",
    "    for n in range(6):\n",
    "        myerr = (\n",
    "            np.linalg.norm(fans_S[i_T][n][:, :] - ntfa_S[i_T][n][:, :], axis=1)\n",
    "            * 100.0\n",
    "            / np.linalg.norm(fans_S[i_T][n][:, :], axis=1)\n",
    "        )\n",
    "        ax.plot(x, myerr, lw=2, label=f\"Last {n + 1}\")\n",
    "        # print(np.max(myerr))\n",
    "    ax.legend()\n",
    "    ax.grid()\n",
    "    # fig.savefig( f'rel_error_ms9p_T{T:.0f}.pdf', format='pdf', pad_inches=0.0)\n",
    "plt.savefig(\"rel_err_sig_10s.pdf\", format=\"pdf\")\n",
    "# ### Stress in phase 1 (WSC)"
   ]
  },
  {
   "cell_type": "code",
   "execution_count": null,
   "id": "745eb82e",
   "metadata": {},
   "outputs": [],
   "source": [
    "fig, axx = plt.subplots(1, 2, figsize=(15, 7))\n",
    "ct = 0\n",
    "for i_T, T in zip((0, 9), (300.0, 1300.0)):\n",
    "    ax = axx[ct]\n",
    "    ct += 1\n",
    "    ax.set_title(r\"Relativer Fehler, $\\bar{\\sigma}_{\\rm WSC}$, T=%.1f K\" % T)\n",
    "    x = np.linspace(0, 1, 11)\n",
    "    ax.set_xlabel(\"relative Belastung [-]\")\n",
    "    ax.set_ylabel(r\"relativer Fehler in $\\bar{\\sigma}_{\\sf WSC}$ [%]\")\n",
    "    for n in range(6):\n",
    "        myerr = (\n",
    "            np.linalg.norm(fans_S1[i_T][n][:, :] - ntfa_S1[i_T][n][:, :], axis=1)\n",
    "            * 100.0\n",
    "            / np.linalg.norm(fans_S1[i_T][n][:, :], axis=1)\n",
    "        )\n",
    "        # myerr[0] = 0.\n",
    "        ax.plot(x, myerr, lw=2, label=f\"Last {n + 1}\")\n",
    "    ax.legend()\n",
    "    ax.grid()\n",
    "    # fig.savefig( f'rel_error_ms9p_T{T:.0f}.pdf', format='pdf', pad_inches=0.0)\n",
    "plt.savefig(\"rel_err_sig_wsc_10s.pdf\", format=\"pdf\")"
   ]
  },
  {
   "cell_type": "markdown",
   "id": "8b6caeb7",
   "metadata": {},
   "source": [
    "## Save all results to H5 file"
   ]
  },
  {
   "cell_type": "code",
   "execution_count": null,
   "id": "bb75630a",
   "metadata": {},
   "outputs": [],
   "source": [
    "F = h5py.File(\n",
    "    os.path.join(data_path, \"results\", \"all_results_ms9p_16x16x16_100s_N24.h5\"), \"w\"\n",
    ")\n",
    "\n",
    "F.create_dataset(\"/eps\", data=ntfa_eps)\n",
    "F.create_group(\"/ntfa\")\n",
    "F.create_group(\"/fans\")\n",
    "F.create_dataset(\"/temperature\", data=np.array(temp_list))\n",
    "F.create_dataset(\"/fans/sig\", data=fans_S)\n",
    "F.create_dataset(\"/fans/sig0\", data=fans_S0)\n",
    "F.create_dataset(\"/fans/sig1\", data=fans_S1)\n",
    "F.create_dataset(\"/ntfa/sig\", data=ntfa_S)\n",
    "F.create_dataset(\"/ntfa/sig0\", data=ntfa_S0)\n",
    "F.create_dataset(\"/ntfa/sig1\", data=ntfa_S1)\n",
    "F.create_dataset(\"/ntfa/q\", data=ntfa_q)\n",
    "F.create_dataset(\"/ntfa/xi\", data=ntfa_xi)\n",
    "\n",
    "F.close()"
   ]
  },
  {
   "cell_type": "code",
   "execution_count": null,
   "id": "bbbdd214",
   "metadata": {},
   "outputs": [],
   "source": [
    "# fans_E = np.array(F[\"ms_9p/dset0_sim/loadcases_0300.00\"])[:,20:30]\n",
    "# fans_S = np.array(F[\"ms_9p/dset0_sim/hom_response_0300.00\"])[:,20:30]\n",
    "# fans_S0 = np.array(F[\"ms_9p/dset0_sim/hom_response0_0300.00\"])[:,20:30]\n",
    "# fans_S1 = np.array(F[\"ms_9p/dset0_sim/hom_response1_0300.00\"])[:,20:30]\n",
    "# F.close()\n",
    "# fname = \"/home/fritzen/calc/dvs/NTFAthermo_paper/ntfa_hull_res.h5\"\n",
    "# F = h5py.File(fname, \"r\")\n",
    "# ntfa_E = np.array(F[\"eps\"])\n",
    "# ntfa_S = np.array(F[\"sig\"])\n",
    "# ntfa_S0 = np.array(F[\"sig0\"])\n",
    "# ntfa_S1 = np.array(F[\"sig1\"])\n",
    "# F.close()\n",
    "\n",
    "# #%%\n",
    "# fig, ax = plt.subplots(1,3,figsize=(20,6))\n",
    "# icomp = 3\n",
    "# ax[0].plot(fans_E[icomp,:], fans_S[icomp,:], 'x-', color='black')\n",
    "# ax[0].plot(ntfa_E[icomp,:], ntfa_S[icomp,:], 'o-', color='blue')\n",
    "# ax[1].plot(fans_E[icomp,:], fans_S0[icomp,:],'x-',  color='black')\n",
    "# ax[1].plot(ntfa_E[icomp,:], ntfa_S0[icomp,:], 'o-', color='blue')\n",
    "# ax[2].plot(fans_E[icomp,:], fans_S1[icomp,:], 'x-', color='black')\n",
    "# ax[2].plot(ntfa_E[icomp,:], ntfa_S1[icomp,:], 'o-', color='blue')\n",
    "\n",
    "# fig, ax = plt.subplots(1,1)\n",
    "# ax.plot(fans_E[icomp,:3], fans_S[icomp,:3],'x-',  color='black')\n",
    "# ax.plot(ntfa_E[icomp,:20], ntfa_S[icomp,:20], 'o-', color='blue')"
   ]
  }
 ],
 "metadata": {
  "jupytext": {
   "cell_metadata_filter": "-all",
   "encoding": "# -*- coding: utf-8 -*-",
   "executable": "/usr/bin/env pyth1on3",
   "formats": "ipynb,py:percent",
   "main_language": "python",
   "notebook_metadata_filter": "-all"
  },
  "kernelspec": {
   "display_name": "Python 3 (ipykernel)",
   "language": "python",
   "name": "python3"
  },
  "language_info": {
   "codemirror_mode": {
    "name": "ipython",
    "version": 3
   },
   "file_extension": ".py",
   "mimetype": "text/x-python",
   "name": "python",
   "nbconvert_exporter": "python",
   "pygments_lexer": "ipython3",
   "version": "3.11.6"
  }
 },
 "nbformat": 4,
 "nbformat_minor": 5
}
