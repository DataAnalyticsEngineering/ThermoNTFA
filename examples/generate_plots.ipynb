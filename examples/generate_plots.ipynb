{
 "cells": [
  {
   "cell_type": "markdown",
   "id": "0f0d93be",
   "metadata": {},
   "source": [
    "# Thermo-mechanical NTFA - Generate plots\n",
    "\n",
    "(c) 2024, \n",
    "Felix Fritzen <fritzen@simtech.uni-stuttgart.de>,\n",
    "Julius Herb <julius.herb@mib.uni-stuttgart.de>,\n",
    "Shadi Sharba <shadi.sharba@isc.fraunhofer.de>\n",
    "\n",
    "University of Stuttgart, Institute of Applied Mechanics, Chair for Data Analytics in Engineering\n",
    "\n",
    "\n",
    "> **Funding acknowledgment**\n",
    "> The IGF-Project no.: 21.079 N / DVS-No.: 06.3341 of the “Forschungsvereinigung Schweißen und verwandte Verfahren e.V.” of the German Welding Society (DVS), Aachener Str. 172, 40223 Düsseldorf, Germany, was funded by the Federal Ministry for Economic Affairs and Climate Action (BMWK) via the German Federation of Industrial Research Associations (AiF) in accordance with the policy to support the Industrial Collective Research (IGF) on the orders of the German Bundestag.</br>\n",
    "> <img src=\"data/bmwk.png\" width=\"20%\"></img>\n",
    ">\n",
    "> Felix Fritzen is funded by the German Research Foundation (DFG) -- 390740016 (EXC-2075); 406068690 (FR2702/8-1); 517847245 (FR2702/10-1).\n",
    "\n",
    "## Imports"
   ]
  },
  {
   "cell_type": "code",
   "execution_count": 1,
   "id": "dd06dc08",
   "metadata": {
    "ExecuteTime": {
     "end_time": "2024-05-03T13:42:08.701144Z",
     "start_time": "2024-05-03T13:42:08.693545Z"
    }
   },
   "outputs": [],
   "source": [
    "import os\n",
    "import numpy as np\n",
    "import h5py\n",
    "import matplotlib\n",
    "import matplotlib.pyplot as plt\n",
    "from matplotlib import cm\n",
    "from matplotlib.colors import LightSource\n",
    "from thermontfa import TabularInterpolation\n",
    "\n",
    "matplotlib.rc('font', size=14)\n",
    "\n",
    "\n",
    "def Vec2Tensor(vec):\n",
    "    \"\"\" Convert a 6-vector (in Mandel notation) into a sym. 3x3 Matrix\n",
    "\n",
    "    \"\"\"\n",
    "    A = np.zeros((3, 3))\n",
    "    A[0, 0] = vec[0]\n",
    "    A[1, 1] = vec[1]\n",
    "    A[2, 2] = vec[2]\n",
    "    A[0, 1] = np.sqrt(0.5) * vec[3]\n",
    "    A[1, 0] = A[0, 1]\n",
    "    A[0, 2] = np.sqrt(0.5) * vec[4]\n",
    "    A[2, 0] = A[0, 2]\n",
    "    A[1, 2] = np.sqrt(0.5) * vec[5]\n",
    "    A[2, 1] = A[1, 2]\n",
    "    return A"
   ]
  },
  {
   "cell_type": "markdown",
   "id": "a8367b7c",
   "metadata": {},
   "source": [
    "## Read tabular data for NTFA matrices from file"
   ]
  },
  {
   "cell_type": "code",
   "execution_count": 2,
   "id": "8a40de39",
   "metadata": {
    "ExecuteTime": {
     "end_time": "2024-05-03T13:42:08.930390Z",
     "start_time": "2024-05-03T13:42:08.879928Z"
    },
    "title": "read the NTFA data into tabular interpolatoin objects"
   },
   "outputs": [
    {
     "ename": "AttributeError",
     "evalue": "'TabularInterpolation' object has no attribute 'InitH5'",
     "output_type": "error",
     "traceback": [
      "\u001b[0;31m---------------------------------------------------------------------------\u001b[0m",
      "\u001b[0;31mAttributeError\u001b[0m                            Traceback (most recent call last)",
      "Cell \u001b[0;32mIn[2], line 3\u001b[0m\n\u001b[1;32m      1\u001b[0m mode_file_name \u001b[38;5;241m=\u001b[39m os\u001b[38;5;241m.\u001b[39mpath\u001b[38;5;241m.\u001b[39mjoin(\u001b[38;5;124m\"\u001b[39m\u001b[38;5;124mdata\u001b[39m\u001b[38;5;124m\"\u001b[39m, \u001b[38;5;124m\"\u001b[39m\u001b[38;5;124msimple_3d_rve_B1-B6_16x16x16_10samples_fix.h5\u001b[39m\u001b[38;5;124m\"\u001b[39m)\n\u001b[1;32m      2\u001b[0m A_bar \u001b[38;5;241m=\u001b[39m TabularInterpolation()\n\u001b[0;32m----> 3\u001b[0m \u001b[43mA_bar\u001b[49m\u001b[38;5;241;43m.\u001b[39;49m\u001b[43mInitH5\u001b[49m(mode_file_name, \u001b[38;5;124m\"\u001b[39m\u001b[38;5;124m/ms_9p/dset0_ntfa/temperatures\u001b[39m\u001b[38;5;124m\"\u001b[39m, \u001b[38;5;124m\"\u001b[39m\u001b[38;5;124m/ms_9p/dset0_ntfa/A_bar\u001b[39m\u001b[38;5;124m\"\u001b[39m, transpose\u001b[38;5;241m=\u001b[39m(\u001b[38;5;241m2\u001b[39m, \u001b[38;5;241m0\u001b[39m, \u001b[38;5;241m1\u001b[39m))\n\u001b[1;32m      4\u001b[0m C_bar \u001b[38;5;241m=\u001b[39m TabularInterpolation()\n\u001b[1;32m      5\u001b[0m C_bar\u001b[38;5;241m.\u001b[39mInitH5(mode_file_name, \u001b[38;5;124m\"\u001b[39m\u001b[38;5;124m/ms_9p/dset0_ntfa/temperatures\u001b[39m\u001b[38;5;124m\"\u001b[39m, \u001b[38;5;124m\"\u001b[39m\u001b[38;5;124m/ms_9p/dset0_ntfa/C_bar\u001b[39m\u001b[38;5;124m\"\u001b[39m, transpose\u001b[38;5;241m=\u001b[39m(\u001b[38;5;241m2\u001b[39m, \u001b[38;5;241m0\u001b[39m, \u001b[38;5;241m1\u001b[39m))\n",
      "\u001b[0;31mAttributeError\u001b[0m: 'TabularInterpolation' object has no attribute 'InitH5'"
     ]
    }
   ],
   "source": [
    "mode_file_name = os.path.join(\"data\", \"simple_3d_rve_B1-B6_16x16x16_10samples_fix.h5\")\n",
    "A_bar = TabularInterpolation()\n",
    "A_bar.InitH5(mode_file_name, \"/ms_9p/dset0_ntfa/temperatures\", \"/ms_9p/dset0_ntfa/A_bar\", transpose=(2, 0, 1))\n",
    "C_bar = TabularInterpolation()\n",
    "C_bar.InitH5(mode_file_name, \"/ms_9p/dset0_ntfa/temperatures\", \"/ms_9p/dset0_ntfa/C_bar\", transpose=(2, 0, 1))\n",
    "A_cu = TabularInterpolation()\n",
    "A_cu.InitH5(mode_file_name, \"/ms_9p/dset0_ntfa/temperatures\", \"/ms_9p/dset0_ntfa/A0\", transpose=(2, 0, 1))\n",
    "A_wsc = TabularInterpolation()\n",
    "A_wsc.InitH5(mode_file_name, \"/ms_9p/dset0_ntfa/temperatures\", \"/ms_9p/dset0_ntfa/A1\", transpose=(2, 0, 1))\n",
    "C_cu = TabularInterpolation()\n",
    "C_cu.InitH5(mode_file_name, \"/ms_9p/dset0_ntfa/temperatures\", \"/ms_9p/dset0_ntfa/C0\", transpose=(2, 0, 1))\n",
    "C_wsc = TabularInterpolation()\n",
    "C_wsc.InitH5(mode_file_name, \"/ms_9p/dset0_ntfa/temperatures\", \"/ms_9p/dset0_ntfa/C1\", transpose=(2, 0, 1))\n",
    "\n",
    "# number of modes - needed to truncate A!\n",
    "N_modes = 18\n",
    "A_bar.data = A_bar.data[:, :, :N_modes]\n",
    "A_cu.data = A_cu.data[:, :, :(7 + N_modes)]\n",
    "A_wsc.data = A_wsc.data[:, :, :(7 + N_modes)]\n",
    "\n",
    "for I in [A_bar, A_cu, A_wsc]:\n",
    "    I.dim = I.data.shape"
   ]
  },
  {
   "cell_type": "markdown",
   "id": "3f69d980",
   "metadata": {},
   "source": [
    "## Analysis of the two-scale simulation\n",
    "### Determine an element in the notch:"
   ]
  },
  {
   "cell_type": "code",
   "execution_count": null,
   "id": "e1b36ef0",
   "metadata": {
    "ExecuteTime": {
     "end_time": "2024-05-03T13:42:09.212550Z",
     "start_time": "2024-05-03T13:42:09.070605Z"
    },
    "title": "Analysis of the two-scale simulation"
   },
   "outputs": [],
   "source": [
    "F = h5py.File(os.path.join(\"data\", \"NTFA293K_fine_temp_293-800.h5\"), \"r\")\n",
    "\n",
    "# step 1: find the element with the crucial pieces of information\n",
    "# read mesh\n",
    "vx = np.array(F[\"/mesh/X\"]).reshape((-1, 3))\n",
    "el = np.array(F[\"/mesh/el_vx_idx\"]).reshape((-1, 10))\n",
    "n_el = np.array(F[\"/mesh/n_el\"])[0]\n",
    "n_vx = np.array(F[\"/mesh/n_vx\"])[0]\n",
    "gp_idx = np.array(F[\"/mesh/DPIdx\"])\n",
    "\n",
    "# get element centers\n",
    "el_center = np.zeros((n_el, 3))\n",
    "for i_el in range(n_el):\n",
    "    el_center[i_el, :] = np.mean(vx[el[i_el, :], :], axis=0)\n",
    "\n",
    "# find the element center closest to 0., 2.5, 0.\n",
    "dist = np.linalg.norm(el_center - np.array([5., 0, 2.5])[None, :], axis=1)\n",
    "i_min = np.argmin(dist)\n",
    "print(f\"element closest to [5., 0., 2.5]: {i_min} with element center {el_center[i_min]}\")"
   ]
  },
  {
   "cell_type": "markdown",
   "id": "cd12a90e",
   "metadata": {},
   "source": [
    "### Extract the strain, temperature, stress, qbar, xi, sig_cu, sig_wsc history:\n",
    "\n",
    "vicinity of the notch (at the center of the specimen)"
   ]
  },
  {
   "cell_type": "code",
   "execution_count": null,
   "id": "6c6dacda",
   "metadata": {
    "ExecuteTime": {
     "end_time": "2024-05-03T13:42:09.574218Z",
     "start_time": "2024-05-03T13:42:09.214067Z"
    },
    "title": "Read the history for the integration point of interest"
   },
   "outputs": [],
   "source": [
    "n_inc = max([int(key.replace(\"DATA\", \"\")) for key in F.keys() if key.startswith(\"DATA\")])\n",
    "theta = np.zeros(n_inc + 1)\n",
    "eps = np.zeros((n_inc + 1, 6))\n",
    "sig = np.zeros((n_inc + 1, 6))\n",
    "sig_cu = np.zeros((n_inc + 1, 6))\n",
    "sig_wsc = np.zeros((n_inc + 1, 6))\n",
    "qbar = np.zeros(n_inc + 1)\n",
    "xi = np.zeros((n_inc + 1, N_modes))\n",
    "zeta = np.zeros((n_inc + 1, N_modes + 7))\n",
    "idat_start = np.array(F[\"/Data/step1/n_iD\"][:gp_idx[i_min]]).sum()\n",
    "idat_end = idat_start + F[\"/Data/step1/n_iD\"][gp_idx[i_min]]\n",
    "n_gp = F[\"/Data/step1/n_gp\"][0]\n",
    "theta[0] = 293\n",
    "for i in range(n_inc):\n",
    "    j = i + 1\n",
    "    theta[j] = np.array(F[f\"/temperature{j}\"])[j]\n",
    "    cdat = np.array(F[f\"/Data/step{i + 1}/cData\"][gp_idx[i_min]])\n",
    "    # cdat = np.array( F[f\"/Data/step{i+1}/cData\"]).reshape((-1,12))\n",
    "    eps[j, :] = cdat[:6]\n",
    "    sig[j, :] = cdat[6:]\n",
    "    idat = np.array(F[f\"/Data/step{i + 1}/iData\"])[idat_start:idat_end]\n",
    "    xi[j, :] = idat[1:(N_modes + 1)]\n",
    "    qbar[j] = idat[0]\n",
    "    zeta[j, :6] = eps[j, :]\n",
    "    zeta[j, 6] = 1\n",
    "    zeta[j, 7:] = xi[j, :]\n",
    "    sig_cu[j, :] = A_cu.interpolate(theta[j]) @ zeta[j, :]\n",
    "    sig_wsc[j, :] = A_wsc.interpolate(theta[j]) @ zeta[j, :]\n",
    "F.close()"
   ]
  },
  {
   "cell_type": "markdown",
   "id": "8cc4855c",
   "metadata": {},
   "source": [
    "### Compute and plot some stress information:"
   ]
  },
  {
   "cell_type": "code",
   "execution_count": null,
   "id": "ec206cb6",
   "metadata": {
    "ExecuteTime": {
     "end_time": "2024-05-03T13:42:10.483354Z",
     "start_time": "2024-05-03T13:42:09.575126Z"
    },
    "title": "some plots"
   },
   "outputs": [],
   "source": [
    "sig_h = sig[:, :3].sum(axis=1) / 3\n",
    "sig_h_cu = sig_cu[:, :3].sum(axis=1) / 3\n",
    "sig_h_wsc = sig_wsc[:, :3].sum(axis=1) / 3\n",
    "sig_eq = np.sqrt(1.5 * np.maximum(0.0, np.linalg.norm(sig, axis=1) ** 2 - 3 * sig_h * sig_h))\n",
    "sig_eq_cu = np.sqrt(1.5 * np.maximum(0.0, np.linalg.norm(sig_cu, axis=1) ** 2 - 3 * sig_h_cu * sig_h_cu))\n",
    "sig_eq_wsc = np.sqrt(1.5 * np.maximum(0.0, np.linalg.norm(sig_wsc, axis=1) ** 2 - 3 * sig_h_wsc * sig_h_wsc))\n",
    "sig_I_wsc = np.zeros(sig.shape[0])\n",
    "sig_II_wsc = np.zeros(sig.shape[0])\n",
    "sig_III_wsc = np.zeros(sig.shape[0])\n",
    "sig_I_cu = np.zeros(sig.shape[0])\n",
    "sig_II_cu = np.zeros(sig.shape[0])\n",
    "sig_III_cu = np.zeros(sig.shape[0])\n",
    "for i in range(n_inc + 1):\n",
    "    sig_III_cu[i], sig_II_cu[i], sig_I_cu[i] = np.linalg.eigvalsh(Vec2Tensor(sig_cu[i]))\n",
    "    sig_III_wsc[i], sig_II_wsc[i], sig_I_wsc[i] = np.linalg.eigvalsh(Vec2Tensor(sig_wsc[i]))\n",
    "\n",
    "t = np.linspace(0, 2, n_inc + 1)\n",
    "fig, ax = plt.subplots(1, 2, figsize=(15, 7))\n",
    "ax[0].plot(eps[:, 1], sig[:, 1] / 1000, color='black', label=r\"$\\overline{\\sigma}_{\\sf yy}$\")\n",
    "ax[0].plot(eps[:, 1], sig_cu[:, 1] / 1000, '--', color='red', label=r\"$\\overline{\\sigma}_{\\sf Cu, yy}$\")\n",
    "ax[0].plot(eps[:, 1], sig_wsc[:, 1] / 1000, '-.', color='blue', label=r\"$\\overline{\\sigma}_{\\sf WSC, yy}$\")\n",
    "ax[0].set_title(\n",
    "    r\"$\\overline{\\sigma}_{\\sf yy}$, $\\overline{\\sigma}_{\\sf Cu, yy}$, $\\overline{\\sigma}_{\\sf WSC, yy}$\"\n",
    "    r\"vs. $\\overline{\\varepsilon}_{\\sf yy}$\")\n",
    "ax[0].legend()\n",
    "ax[0].grid()\n",
    "ax[0].set_xlabel(r\"$\\overline{\\varepsilon}_{\\sf yy}$ [-]\")\n",
    "ax[0].set_ylabel(r\"$\\overline{\\sigma}_{\\sf yy}, \\overline{\\sigma}_{\\sf Cu, yy}, \\overline{\\sigma}_{\\sf WSC, yy}$ [MPa]\")\n",
    "eyy_max = max(eps[:, 1])\n",
    "syy = sig[8, 1] / 1000\n",
    "syy_cu = sig_cu[8, 1] / 1000\n",
    "syy_wsc = sig_wsc[8, 1] / 1000\n",
    "arrowprops = dict(facecolor='black', shrink=0.02, width=2, headwidth=12, headlength=12)\n",
    "ax[0].annotate(\"Beginn\\nEntlastung & Abkühlung\", xy=(eyy_max, syy), xytext=(0.012, 625), arrowprops=arrowprops)\n",
    "ax[0].annotate(\"\", xy=(eyy_max, syy_cu), xytext=(0.0221, 610), arrowprops=arrowprops)\n",
    "ax[0].annotate(\"\", xy=(eyy_max, syy_wsc), xytext=(0.0235, 660), arrowprops=arrowprops)\n",
    "ax[0].plot(eyy_max, syy_cu, 'd', color='red', ms=10)\n",
    "ax[0].plot(eyy_max, syy_wsc, 'd', color='blue', ms=10)\n",
    "ax[0].plot(eyy_max, syy, 'd', color='black', ms=10)\n",
    "\n",
    "ax[1].plot((1, 1), (-100, 900), lw=2, color='gray')\n",
    "ax[1].text(1.05, -125, \"Entlastung\\n& Abkühlung\")\n",
    "ax[1].annotate(\"\", xy=(1.25, 0), xytext=(1, 0),\n",
    "               arrowprops=dict(facecolor='black', shrink=0.0, width=2, headwidth=12, headlength=12))\n",
    "ax[1].plot(t, sig[:, 1] / 1000, color='black', label=r\"$\\overline{\\sigma}_{\\sf yy}$\")\n",
    "ax[1].plot(t, sig_cu[:, 1] / 1000, '--', color='red', label=r\"$\\overline{\\sigma}_{\\sf Cu,yy}$\")\n",
    "ax[1].plot(t, sig_wsc[:, 1] / 1000, '-.', color='blue', label=r\"$\\overline{\\sigma}_{\\sf WSC,yy}$\")\n",
    "ax[1].set_title(\n",
    "    r\"$\\overline{\\sigma}_{\\sf yy}$, $\\overline{\\sigma}_{\\sf Cu, yy}$, $\\overline{\\sigma}_{\\sf WSC, yy}$, $\\overline{Q}$\"\n",
    "    r\"vs. time $t$\")\n",
    "ax2 = ax[1].twinx()\n",
    "ax[1].legend(loc='center right')\n",
    "ax[1].grid()\n",
    "ax2.plot(t, qbar, label=r\"$\\overline{Q}$\", color='olive', lw=2)\n",
    "ax[1].set_xlabel(r\"$t$ [s]\")\n",
    "ax[1].set_ylabel(\n",
    "    r\"$\\overline{\\sigma}_{\\sf yy}, \\overline{\\sigma}_{\\sf Cu, yy}, \\overline{\\sigma}_{\\sf WSC, yy}$  [MPa]\")\n",
    "ax2.set_ylabel(r\"$\\overline{Q}$ [-]\")\n",
    "plt.tight_layout()\n",
    "plt.savefig(os.path.join(\"results\", \"notchtest_fine_sigyy_ntfa.pdf\"), format=\"pdf\")\n",
    "plt.show()"
   ]
  },
  {
   "cell_type": "code",
   "execution_count": null,
   "id": "13ab35db",
   "metadata": {
    "ExecuteTime": {
     "end_time": "2024-05-03T13:42:11.253233Z",
     "start_time": "2024-05-03T13:42:10.484694Z"
    }
   },
   "outputs": [],
   "source": [
    "fig, ax = plt.subplots(1, 2, figsize=(15, 7))\n",
    "ax[0].plot(t, sig_III_wsc / 1000, '-.', color='blue', label=r\"$\\overline{\\sigma}_{\\sf WSC, 3}$\")\n",
    "ax[0].plot(t, sig_II_wsc / 1000, '--', color='blue', label=r\"$\\overline{\\sigma}_{\\sf WSC, 2}$\")\n",
    "ax[0].plot(t, sig_I_wsc / 1000, color='blue', label=r\"$\\overline{\\sigma}_{\\sf WSC, 1}$\")\n",
    "ax[0].plot(t, sig_III_cu / 1000, '-.', color='red', label=r\"$\\overline{\\sigma}_{\\sf Cu, 3}$\")\n",
    "ax[0].plot(t, sig_II_cu / 1000, '--', color='red', label=r\"$\\overline{\\sigma}_{\\sf Cu, 2}$\")\n",
    "ax[0].plot(t, sig_I_cu / 1000, color='red', label=r\"$\\overline{\\sigma}_{\\sf Cu, 1}$\")\n",
    "ax[0].legend(ncol=1)  #loc='center right')\n",
    "ax[0].grid()\n",
    "ax[0].set_xlabel(r\"$t$ [s]\")\n",
    "ax[0].set_ylabel(r\"Hauptnormalspannungen [MPa]\")\n",
    "ax[0].plot((1, 1), (-200, 900), lw=2, color='gray')\n",
    "ax[0].text(1.05, 275, \"Entlastung\\n& Abkühlung\")\n",
    "ax[0].annotate(\"\", xy=(1.25, 400), xytext=(1, 400),\n",
    "               arrowprops=dict(facecolor='black', shrink=0.0, width=2, headwidth=12, headlength=12))\n",
    "\n",
    "\n",
    "def yield_cu(x):\n",
    "    return (1.12133e+02 * x + 3.49810e+04 + 1.53393e+05 * np.tanh(\n",
    "        (x / 1000 + -6.35754e-01) / -2.06958e-01)) * (x < 1000) + 1200. * (x >= 1000.0)\n",
    "\n",
    "\n",
    "sig_y = np.zeros_like(t)\n",
    "for i, T in enumerate(theta):\n",
    "    sig_y[i] = yield_cu(theta[i]) + 500000 * qbar[i]\n",
    "\n",
    "ax[1].plot((1, 1), (-100, 900), lw=2, color='gray')\n",
    "ax[1].text(1.05, 275, \"Entlastung\\n& Abkühlung\")\n",
    "ax[1].annotate(\"\", xy=(1.25, 400), xytext=(1, 400),\n",
    "               arrowprops=dict(facecolor='black', shrink=0.0, width=2, headwidth=12, headlength=12))\n",
    "# ax[1].plot(t, sig_h_cu/1000, '-', color='red', label=r\"$\\overline{\\sigma}_{\\sf Cu, h}$\")\n",
    "ax[1].plot(t, sig_eq_cu / 1000, '-', color='red', label=r\"$\\overline{\\sigma}_{\\sf Cu, eq}$\")\n",
    "# ax[1].plot(t, sig_h_wsc/1000, '-', color='blue', label=r\"$\\overline{\\sigma}_{\\sf WSC, h}$\")\n",
    "ax[1].plot(t, sig_eq_wsc / 1000, '-', color='blue', label=r\"$\\overline{\\sigma}_{\\sf WSC, eq}$\")\n",
    "ax[1].plot(t, sig_y / 1000, '-', color='black', label=r\"$\\sigma_{\\sf F}(\\overline{Q})$\")\n",
    "ax[1].legend(ncol=1, loc='upper right')\n",
    "ax[1].grid()\n",
    "ax[1].set_xlabel(r\"$t$ [s]\")\n",
    "ax[1].set_ylabel(r\"Vergleichsspannung und Fließspannung [MPa]\")\n",
    "plt.tight_layout()\n",
    "plt.savefig(os.path.join(\"results\", \"notchtest_fine_sigeq_ntfa.pdf\"), format=\"pdf\")\n",
    "plt.show()"
   ]
  },
  {
   "cell_type": "markdown",
   "id": "f7fa52c7",
   "metadata": {},
   "source": [
    "### Pass the strain, temperature history to FANS as BC"
   ]
  },
  {
   "cell_type": "code",
   "execution_count": null,
   "id": "2bd1b18f",
   "metadata": {
    "ExecuteTime": {
     "end_time": "2024-05-03T13:42:11.260804Z",
     "start_time": "2024-05-03T13:42:11.254431Z"
    },
    "lines_to_next_cell": 2
   },
   "outputs": [],
   "source": [
    "F = h5py.File(os.path.join(\"data\", \"daten_kerbgrund.h5\"), \"w\")\n",
    "F.create_dataset(\"/sig\", data=sig)\n",
    "F.create_dataset(\"/sig_cu\", data=sig_cu)\n",
    "F.create_dataset(\"/sig_wsc\", data=sig_wsc)\n",
    "F.create_dataset(\"/eps\", data=eps)\n",
    "F.create_dataset(\"/theta\", data=theta)\n",
    "\n",
    "F.create_dataset(\"/time\", data=t)\n",
    "F.close()\n",
    "# ax2=ax[1].twinx()\n",
    "# ax2.plot(t, eps[:,1], color='black')\n",
    "# ax2.plot(t, qbar[:], color='red')\n",
    "# ax1].plot(t, sig_cu[:,1]/1000, '--', color='red')\n",
    "# ax2.plot(t, sig_wsc[:,1]/1000, '-.', color='blue')\n",
    "\n",
    "# ax2.plot(eps[:,1], sig_cu[:,1]/1000, '--', color='red')\n",
    "# ax2.plot(eps[:,1], sig_wsc[:,1]/1000, '-.', color='blue')\n",
    "print(theta)"
   ]
  },
  {
   "cell_type": "markdown",
   "id": "f06f2d9c",
   "metadata": {},
   "source": [
    "### Compare the results:\n",
    "\n",
    "#### Load data from hdf5 files:"
   ]
  },
  {
   "cell_type": "code",
   "execution_count": null,
   "id": "91bac5c0199f908d",
   "metadata": {
    "ExecuteTime": {
     "end_time": "2024-05-03T13:42:11.296773Z",
     "start_time": "2024-05-03T13:42:11.288385Z"
    }
   },
   "outputs": [],
   "source": [
    "file_name = os.path.join(\"data\", \"daten_kerbgrund_32s_fans.h5\")\n",
    "with h5py.File(file_name, \"r\") as F:\n",
    "    eps = np.array(F[\"/eps\"])\n",
    "    theta = np.array(F[\"/theta\"])\n",
    "    fans_sig = np.array(F[\"/fe/sig\"])\n",
    "    fans_sig_cu = np.array(F[\"/fe/sig0\"])\n",
    "    fans_sig_wsc = np.array(F[\"/fe/sig1\"])\n",
    "    ntfa_sig = np.array(F[\"/sig\"])\n",
    "    ntfa_sig_cu = np.array(F[\"/sig_cu\"])\n",
    "    ntfa_sig_wsc = np.array(F[\"/sig_wsc\"])\n",
    "    #ntfa_q = np.array(F[\"/ntfa/q\"])\n",
    "    #ntfa_xi = np.array(F[\"/ntfa/xi\"])"
   ]
  },
  {
   "cell_type": "code",
   "execution_count": null,
   "id": "be673b0acd50d722",
   "metadata": {
    "ExecuteTime": {
     "end_time": "2024-05-03T13:42:11.462390Z",
     "start_time": "2024-05-03T13:42:11.298882Z"
    }
   },
   "outputs": [],
   "source": [
    "for i in [0, 1, 2, 3, 4, 5]:\n",
    "    plt.plot(eps[:,1] * 100., fans_sig[:,i] / 1000, 'k-o')\n",
    "    plt.plot(eps[:,1] * 100., ntfa_sig[:,i] / 1000, 'r--.')\n",
    "plt.legend(['FANS', 'NTFA'])\n",
    "plt.xlabel(r'$\\varepsilon_{yy}$ [%]')\n",
    "plt.ylabel(r'$\\sigma$ [MPa]')\n",
    "plt.grid()\n",
    "plt.tight_layout()\n",
    "plt.show()"
   ]
  },
  {
   "cell_type": "markdown",
   "id": "c22f77bf-58f0-4798-8dc8-45d9798bbd07",
   "metadata": {},
   "source": [
    "### Load H5 file with all results:"
   ]
  },
  {
   "cell_type": "code",
   "execution_count": null,
   "id": "928d30fa",
   "metadata": {
    "ExecuteTime": {
     "end_time": "2024-05-03T13:42:11.286760Z",
     "start_time": "2024-05-03T13:42:11.261483Z"
    },
    "title": "Analysis of the training directions of the temperature range"
   },
   "outputs": [],
   "source": [
    "# file_name = os.path.join(\"data\", \"all_results_ms9p_16x16x16_10s_N24.h5\")\n",
    "file_name = os.path.join(\"data\", f\"all_results_ms9p_16x16x16_100s_N{N_modes}.h5\")\n",
    "with h5py.File(file_name, \"r\") as F:\n",
    "    eps = np.array(F[\"/eps\"])\n",
    "    theta = np.array(F[\"/temperature\"])\n",
    "    fans_sig = np.array(F[\"/fans/sig\"])\n",
    "    fans_sig_cu = np.array(F[\"/fans/sig0\"])\n",
    "    fans_sig_wsc = np.array(F[\"/fans/sig1\"])\n",
    "    ntfa_sig = np.array(F[\"/ntfa/sig\"])\n",
    "    ntfa_sig_cu = np.array(F[\"/ntfa/sig0\"])\n",
    "    ntfa_sig_wsc = np.array(F[\"/ntfa/sig1\"])\n",
    "    ntfa_q = np.array(F[\"/ntfa/q\"])\n",
    "    ntfa_xi = np.array(F[\"/ntfa/xi\"])"
   ]
  },
  {
   "cell_type": "markdown",
   "id": "b2103f3f",
   "metadata": {},
   "source": [
    "#### Compare efficiency of the interpolation over the temperature:"
   ]
  },
  {
   "cell_type": "code",
   "execution_count": null,
   "id": "0a1143fe",
   "metadata": {
    "ExecuteTime": {
     "end_time": "2024-05-03T13:42:11.638853Z",
     "start_time": "2024-05-03T13:42:11.463397Z"
    },
    "lines_to_next_cell": 0,
    "title": "rel. error in sig_bar for 300 and 1300 K"
   },
   "outputs": [],
   "source": [
    "print(fans_sig.shape)\n",
    "fig, axx = plt.subplots(1, 2, figsize=(15, 7))\n",
    "ct = 0\n",
    "for i_T, T in zip((0, 9), (300., 1300.)):\n",
    "    ax = axx[ct]\n",
    "    ct += 1\n",
    "    ax.set_title(r'Relativer Fehler, $\\bar{\\sigma}$, T=%.1f K' % T)\n",
    "    x = np.linspace(0, 1, 11)\n",
    "    ax.set_xlabel('relative Belastung [-]')\n",
    "    ax.set_ylabel(r'relativer Fehler in $\\bar{\\sigma}$ [%]')\n",
    "    for iload in range(6):\n",
    "        myerr = np.linalg.norm(fans_sig[i_T][iload][:, :] - ntfa_sig[i_T][iload][:, :], axis=1) \\\n",
    "                * 100. / np.linalg.norm(fans_sig[i_T][iload][:, :], axis=1)\n",
    "        ax.plot(x, myerr, lw=2, label=f'Last {iload + 1}')\n",
    "        # print(np.max(myerr))\n",
    "    ax.legend()\n",
    "    ax.grid()\n",
    "    # fig.savefig( f'rel_error_ms9p_T{T:.0f}.pdf', format='pdf', pad_inches=0.0)\n",
    "plt.savefig(os.path.join(\"results\", \"rel_err_sig_10s.pdf\"), format=\"pdf\")\n",
    "plt.show()"
   ]
  },
  {
   "cell_type": "code",
   "execution_count": null,
   "id": "a20d22a0",
   "metadata": {},
   "outputs": [],
   "source": [
    "fig, axx = plt.subplots(1, 2, figsize=(15, 7))\n",
    "ct = 0\n",
    "for i_T, T in zip((0, 9), (300., 1300.)):\n",
    "    ax = axx[ct]\n",
    "    ct += 1\n",
    "    ax.set_title(r'Relativer Fehler, $\\bar{\\sigma}_{\\rm WSC}$, T=%.1f K' % T)\n",
    "    x = np.linspace(0, 1, 11)\n",
    "    ax.set_xlabel('relative Belastung [-]')\n",
    "    ax.set_ylabel(r'relativer Fehler in $\\bar{\\sigma}_{\\sf WSC}$ [%]')\n",
    "    for iload in range(6):\n",
    "        myerr = np.linalg.norm(fans_sig_wsc[i_T][iload][:, :] - ntfa_sig_wsc[i_T][iload][:, :], axis=1) \\\n",
    "                * 100. / np.linalg.norm(fans_sig_wsc[i_T][iload][:, :], axis=1)\n",
    "        # myerr[0] = 0.\n",
    "        ax.plot(x, myerr, lw=2, label=f'Last {iload + 1}')\n",
    "    ax.legend()\n",
    "    ax.grid()\n",
    "    # fig.savefig( f'rel_error_ms9p_T{T:.0f}.pdf', format='pdf', pad_inches=0.0)\n",
    "plt.savefig(os.path.join(\"results\", \"rel_err_sig_wsc_10s.pdf\"), format=\"pdf\")\n",
    "plt.show()"
   ]
  },
  {
   "cell_type": "code",
   "execution_count": null,
   "id": "1a7d1f83",
   "metadata": {
    "title": "plot for loadcase 2 the relevant curves"
   },
   "outputs": [],
   "source": [
    "err = np.zeros((theta.size, fans_sig.shape[2]))\n",
    "err0 = np.zeros_like(err)\n",
    "err1 = np.zeros_like(err)\n",
    "err_h = np.zeros_like(err)\n",
    "err_eq = np.zeros_like(err)\n",
    "zeta = np.zeros((eps.shape[2], ntfa_xi.shape[-1] + 7))\n",
    "iload = 2\n",
    "for i_T, T in enumerate(theta):\n",
    "    Sref = fans_sig[i_T, iload]\n",
    "    Sref0 = fans_sig_cu[i_T, iload]\n",
    "    Sref1 = fans_sig_wsc[i_T, iload]\n",
    "    # recompute stress of NTFA:\n",
    "    zeta[:, :6] = eps[i_T, iload]\n",
    "    zeta[:, 6] = 1\n",
    "    zeta[:, 7:] = ntfa_xi[i_T, iload]\n",
    "    ntfa_S0 = zeta @ (A_cu.interpolate(T)).T\n",
    "    ntfa_S1 = zeta @ (A_wsc.interpolate(T)).T\n",
    "    dS = Sref - ntfa_sig[i_T, iload, :, :]\n",
    "    dS0 = Sref0 - ntfa_S0\n",
    "    dS1 = Sref1 - ntfa_S1\n",
    "    # dS0 = Sref0 - ntfa_sig_cu[i,iload,:,:]\n",
    "    # dS1 = Sref1 - ntfa_sig_wsc[i,iload,:,:]\n",
    "    # errors in %\n",
    "    err[i_T, :] = np.linalg.norm(dS, axis=1) / np.linalg.norm(Sref, axis=1) * 100\n",
    "    err0[i_T, :] = np.linalg.norm(dS0, axis=1) / np.linalg.norm(Sref0, axis=1) * 100\n",
    "    err1[i_T, :] = np.linalg.norm(dS1, axis=1) / np.linalg.norm(Sref1, axis=1) * 100\n",
    "    # in MPa:\n",
    "    err_h[i_T, :] = dS[:, :3].sum(axis=1) / 3. / 1000.\n",
    "    err_eq[i_T, :] = np.maximum(0, np.linalg.norm(dS, axis=1) ** 2 - 3 * err_h[i, :] ** 2) * np.sqrt(1.5) / 1000."
   ]
  },
  {
   "cell_type": "code",
   "execution_count": null,
   "id": "6fe08044",
   "metadata": {
    "title": "3D Plots"
   },
   "outputs": [],
   "source": [
    "X = np.linspace(0, 1, fans_sig.shape[2])\n",
    "Y = theta\n",
    "XX, YY = np.meshgrid(X, Y)\n",
    "\n",
    "fig, axx = plt.subplots(1, 2, subplot_kw=dict(projection='3d'), figsize=(15, 7))\n",
    "\n",
    "ax = axx[0]\n",
    "\n",
    "ls = LightSource(220, 45)\n",
    "# To use a custom hillshading mode, override the built-in shading and pass\n",
    "# in the rgb colors of the shaded surface calculated from \"shade\".\n",
    "ZZ = err\n",
    "rgb = ls.shade(ZZ, cmap=cm.jet, vert_exag=0.1, blend_mode='soft')\n",
    "ax.view_init(elev=35, azim=-35)\n",
    "surf = ax.plot_surface(XX, YY, ZZ, rstride=1, cstride=1, facecolors=rgb, linewidth=0, antialiased=False, shade=False)\n",
    "\n",
    "ax.set_xlabel(\"relative Belastung [-]\")\n",
    "ax.set_ylabel(\"Temperatur [K]\")\n",
    "ax.set_zlabel(r\"rel. Fehler in $\\overline{\\sigma}$ [%]\")\n",
    "\n",
    "ax = axx[1]\n",
    "\n",
    "ls = LightSource(220, 45)\n",
    "# To use a custom hillshading mode, override the built-in shading and pass\n",
    "# in the rgb colors of the shaded surface calculated from \"shade\".\n",
    "ZZ = err1\n",
    "rgb = ls.shade(ZZ, cmap=cm.jet, vert_exag=0.1, blend_mode='soft')\n",
    "ax.view_init(elev=35, azim=-35)\n",
    "surf = ax.plot_surface(XX, YY, ZZ, rstride=1, cstride=1, facecolors=rgb, linewidth=0, antialiased=False, shade=False)\n",
    "\n",
    "ax.set_xlabel(\"relative Belastung [-]\")\n",
    "ax.set_ylabel(\"Temperatur [K]\")\n",
    "ax.set_zlabel(r\"rel. Fehler in $\\overline{\\sigma}_{\\sf WSC}$ [%]\")\n",
    "\n",
    "fig.tight_layout()\n",
    "\n",
    "plt.savefig(os.path.join(\"results\", \"surface_plots_err_sig_sig_wsc.pdf\"), format=\"pdf\")\n",
    "plt.show()\n",
    "\n",
    "# ax[0].plot(theta, err, '-', color='black', label=r\"$e_{\\overline{\\sigma}}$ [%]\")\n",
    "# ax[0].plot(theta, err0, '--', color='red', label=r\"$e_{\\overline{\\sigma},\\sf Cu}$ [%]\")\n",
    "# ax[0].plot(theta, err1, '-.', color='blue', label=r\"$e_{\\overline{\\sigma},\\sf Cu}$ [%]\")\n",
    "\n",
    "# ax[1].plot(theta, err_eq, '-', color='black', label=r\"$e_{\\overline{\\sigma}},\\sf eq$ [MPa]\")"
   ]
  },
  {
   "cell_type": "markdown",
   "id": "e1a0280b",
   "metadata": {},
   "source": [
    "#### Show select stress-strain curves:"
   ]
  },
  {
   "cell_type": "code",
   "execution_count": null,
   "id": "911e4748",
   "metadata": {},
   "outputs": [],
   "source": [
    "with h5py.File(os.path.join(\"data\", \"daten_kerbgrund_JH_fixed.h5\"), \"r\") as F:  # daten_kerbgrund_NTFA_FE.h5\n",
    "    eps = np.array(F[\"/eps\"])\n",
    "    ntfa_S = np.array(F[\"/sig\"]) / 1e3\n",
    "    ntfa_S0 = np.array(F[\"/sig_cu\"]) / 1e3\n",
    "    ntfa_S1 = np.array(F[\"/sig_wsc\"]) / 1e3\n",
    "    fe_S = np.array(F[\"/fe/sig\"]) / 1e3\n",
    "    fe_S0 = np.array(F[\"/fe/sig0\"]) / 1e3\n",
    "    fe_S1 = np.array(F[\"/fe/sig1\"]) / 1e3\n",
    "# with h5py.File(\"/home/fritzen/Nextcloud/FNO/daten_kerbgrund_JH.h5\", \"r\") as F:\n",
    "#     eps = np.array(F[\"/eps\"])\n",
    "#     # ntfa_S = np.array(F[\"/sig\"])/1e3\n",
    "#     # ntfa_S0 = np.array(F[\"/sig_cu\"])/1e3\n",
    "#     # ntfa_S1 = np.array(F[\"/sig_wsc\"])/1e3\n",
    "#     fe_S = np.array(F[\"/fe/sig\"])/1e3\n",
    "#     fe_S0 = np.array(F[\"/fe/sig0\"])/1e3\n",
    "#     fe_S1 = np.array(F[\"/fe/sig1\"])/1e3\n",
    "\n",
    "# with h5py.File(\"daten_kerbgrund.h5\", \"r\") as F:\n",
    "#     ntfa_S = np.array(F[\"/sig\"])/1e3\n",
    "#     ntfa_S0 = np.array(F[\"/sig_cu\"])/1e3\n",
    "#     ntfa_S1 = np.array(F[\"/sig_wsc\"])/1e3\n",
    "\n",
    "# with h5py.File(\"/home/fritzen/Nextcloud/FNO/daten_kerbgrund_JH_fixed.h5\", \"w\") as F:\n",
    "#     with h5py.File(\"daten_kerbgrund.h5\", \"r\") as G:\n",
    "#         # copy existing data\n",
    "#         for k in G.keys():\n",
    "#             F.create_dataset(k, data=G[k])\n",
    "#     with h5py.File(\"/home/fritzen/Nextcloud/FNO/daten_kerbgrund_JH.h5\", \"r\") as G:\n",
    "#         for k in [\"/fe/sig\", \"/fe/sig0\", \"/fe/sig1\"]:\n",
    "#             F.create_dataset(k, data=G[k])"
   ]
  },
  {
   "cell_type": "code",
   "execution_count": null,
   "id": "5b0e0a63dcfa1d2e",
   "metadata": {},
   "outputs": [],
   "source": [
    "fig, ax = plt.subplots(1, 2, figsize=(15, 7))\n",
    "for i in range(6):\n",
    "    if (i == 0):\n",
    "        label_fe = \"FE\"\n",
    "        label_ntfa = \"NTFA\"\n",
    "    else:\n",
    "        label_fe = None\n",
    "        label_ntfa = None\n",
    "    ax[0].plot(eps[:, 1] * 100, ntfa_S[:, i], color='red', lw=2, label=label_ntfa)\n",
    "    ax[0].plot(eps[:, 1] * 100, fe_S[:, i], color='black', lw=2, label=label_fe)\n",
    "    ax[1].plot(eps[:, 1] * 100, ntfa_S1[:, i], color='red', lw=2, label=label_ntfa)\n",
    "    ax[1].plot(eps[:, 1] * 100, fe_S1[:, i], color='black', lw=2, label=label_fe)\n",
    "ax[0].set_title(r\"Vergleich $\\overline{{\\sigma}}$: NTFA (rot) vs. FE (schwarz)\")\n",
    "ax[1].set_title(r\"Vergleich $\\overline{{\\sigma}}_{\\sf WSC}$: NTFA (rot) vs. FE (schwarz)\")\n",
    "for a in ax:\n",
    "    a.grid()\n",
    "    a.legend()\n",
    "    a.set_xlabel(r\"$\\varepsilon_{\\sf yy}$ [%]\")\n",
    "ax[0].set_ylabel(r\"Komponenten von $\\overline{{\\sigma}}$ [MPa]\")\n",
    "ax[1].set_ylabel(r\"Komponenten von $\\overline{{\\sigma}}_{\\sf WSC}$ [MPa]\")\n",
    "fig.tight_layout()\n",
    "plt.savefig(\"kerbgrund_sig_sig_wsc.pdf\", format=\"pdf\")\n",
    "\n",
    "dS = fe_S - ntfa_S\n",
    "dS1 = fe_S1 - ntfa_S1\n",
    "err = np.linalg.norm(dS, axis=1) / np.linalg.norm(fe_S, axis=1)\n",
    "err1 = np.linalg.norm(dS1, axis=1) / np.linalg.norm(fe_S1, axis=1)\n",
    "fig, ax = plt.subplots(1, 1, figsize=(8, 7))\n",
    "ax.plot(err * 100, 'o-', ms=10, color='black', lw=2, label=r\"Fehler$(\\overline{\\sigma})$\")\n",
    "ax.plot(err1 * 100, 's-', ms=10, color='blue', lw=2, label=r\"Fehler$(\\overline{\\sigma}_{\\sf WSC})$\")\n",
    "ax.legend()\n",
    "ax.grid()\n",
    "ax.set_xlabel(\"Lastschritt-Nr. [-]\")\n",
    "ax.set_ylabel(r\"rel. Fehler in $\\overline{\\sigma}, \\overline{\\sigma}_{\\sf WSC}$ [%]\")\n",
    "fig.tight_layout()\n",
    "plt.savefig(os.path.join(\"results\", \"kerbgrund_err_sig_sig_wsc.pdf\"), format=\"pdf\")\n",
    "plt.show()"
   ]
  },
  {
   "cell_type": "code",
   "execution_count": null,
   "id": "fefc2dd9-5fe0-4a78-a5e0-8cb5c3fa8898",
   "metadata": {},
   "outputs": [],
   "source": []
  }
 ],
 "metadata": {
  "jupytext": {
   "cell_metadata_filter": "title,-all",
   "encoding": "# -*- coding: utf-8 -*-",
   "executable": "/usr/bin/env python3",
   "formats": "ipynb,auto:light",
   "main_language": "python",
   "notebook_metadata_filter": "-all"
  },
  "kernelspec": {
   "display_name": "Python 3 (ipykernel)",
   "language": "python",
   "name": "python3"
  },
  "language_info": {
   "codemirror_mode": {
    "name": "ipython",
    "version": 3
   },
   "file_extension": ".py",
   "mimetype": "text/x-python",
   "name": "python",
   "nbconvert_exporter": "python",
   "pygments_lexer": "ipython3",
   "version": "3.11.5"
  }
 },
 "nbformat": 4,
 "nbformat_minor": 5
}
